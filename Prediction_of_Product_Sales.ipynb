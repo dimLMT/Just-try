{
  "nbformat": 4,
  "nbformat_minor": 0,
  "metadata": {
    "colab": {
      "provenance": [],
      "authorship_tag": "ABX9TyM+AswZiPB2Ma6G1bYhCX2k",
      "include_colab_link": true
    },
    "kernelspec": {
      "name": "python3",
      "display_name": "Python 3"
    },
    "language_info": {
      "name": "python"
    }
  },
  "cells": [
    {
      "cell_type": "markdown",
      "metadata": {
        "id": "view-in-github",
        "colab_type": "text"
      },
      "source": [
        "<a href=\"https://colab.research.google.com/github/dimLMT/Prediction-of-Product-Sales/blob/main/Prediction_of_Product_Sales.ipynb\" target=\"_parent\"><img src=\"https://colab.research.google.com/assets/colab-badge.svg\" alt=\"Open In Colab\"/></a>"
      ]
    },
    {
      "cell_type": "markdown",
      "source": [
        "# Prediction of Product Sales\n",
        "- Author: Mengtian Liu\n"
      ],
      "metadata": {
        "id": "8twNPafKaLi3"
      }
    },
    {
      "cell_type": "markdown",
      "source": [
        "## Project Overview\n"
      ],
      "metadata": {
        "id": "hsoOA19Wauef"
      }
    },
    {
      "cell_type": "markdown",
      "source": [
        "## Load and Inspect Data\n"
      ],
      "metadata": {
        "id": "y3JyhRHtauof"
      }
    },
    {
      "cell_type": "code",
      "source": [],
      "metadata": {
        "id": "H0tinObccHCN"
      },
      "execution_count": null,
      "outputs": []
    },
    {
      "cell_type": "markdown",
      "source": [
        "## Clean Data\n",
        "\n"
      ],
      "metadata": {
        "id": "bf1pFA0Qauw_"
      }
    },
    {
      "cell_type": "code",
      "source": [],
      "metadata": {
        "id": "yvNPN3oycHfQ"
      },
      "execution_count": null,
      "outputs": []
    },
    {
      "cell_type": "markdown",
      "source": [
        "## Exploratory Data Analysis"
      ],
      "metadata": {
        "id": "bmw-Mvgqau5I"
      }
    },
    {
      "cell_type": "code",
      "source": [],
      "metadata": {
        "id": "F4uw3nd2cH-R"
      },
      "execution_count": null,
      "outputs": []
    },
    {
      "cell_type": "markdown",
      "source": [
        "## Feature Inspection\n"
      ],
      "metadata": {
        "id": "4djNUb4favA-"
      }
    },
    {
      "cell_type": "code",
      "source": [],
      "metadata": {
        "id": "VslVifV0cIdS"
      },
      "execution_count": null,
      "outputs": []
    }
  ]
}